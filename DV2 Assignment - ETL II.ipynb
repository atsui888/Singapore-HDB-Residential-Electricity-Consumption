{
 "cells": [
  {
   "cell_type": "markdown",
   "id": "c1b3af1b",
   "metadata": {},
   "source": [
    "# DV2 Assignment - ETL II"
   ]
  },
  {
   "cell_type": "code",
   "execution_count": 1,
   "id": "4cb89318",
   "metadata": {},
   "outputs": [],
   "source": [
    "import pandas as pd"
   ]
  },
  {
   "cell_type": "markdown",
   "id": "ce060814",
   "metadata": {},
   "source": [
    "# Add Region to 'dfDwellUnits.csv'"
   ]
  },
  {
   "cell_type": "code",
   "execution_count": 2,
   "id": "bc39bbaf",
   "metadata": {},
   "outputs": [
    {
     "name": "stdout",
     "output_type": "stream",
     "text": [
      "(1256, 4)\n",
      "   Year        Town Dwelling_Type  num_DwellUnits\n",
      "0  2008  Ang Mo Kio       1rm_2rm            4811\n",
      "1  2008       Bedok       1rm_2rm            4205\n",
      "2  2008      Bishan       1rm_2rm             396\n"
     ]
    }
   ],
   "source": [
    "df = pd.read_csv('dfDwellUnits.csv')\n",
    "\n",
    "print(df.shape)\n",
    "print(df.head(3))"
   ]
  },
  {
   "cell_type": "code",
   "execution_count": 3,
   "id": "8389d8b0",
   "metadata": {},
   "outputs": [
    {
     "data": {
      "text/html": [
       "<div>\n",
       "<style scoped>\n",
       "    .dataframe tbody tr th:only-of-type {\n",
       "        vertical-align: middle;\n",
       "    }\n",
       "\n",
       "    .dataframe tbody tr th {\n",
       "        vertical-align: top;\n",
       "    }\n",
       "\n",
       "    .dataframe thead th {\n",
       "        text-align: right;\n",
       "    }\n",
       "</style>\n",
       "<table border=\"1\" class=\"dataframe\">\n",
       "  <thead>\n",
       "    <tr style=\"text-align: right;\">\n",
       "      <th></th>\n",
       "      <th>Year</th>\n",
       "      <th>Town</th>\n",
       "      <th>Dwelling_Type</th>\n",
       "      <th>num_DwellUnits</th>\n",
       "    </tr>\n",
       "  </thead>\n",
       "  <tbody>\n",
       "    <tr>\n",
       "      <th>0</th>\n",
       "      <td>2008-01-01</td>\n",
       "      <td>Ang Mo Kio</td>\n",
       "      <td>1rm_2rm</td>\n",
       "      <td>4811</td>\n",
       "    </tr>\n",
       "    <tr>\n",
       "      <th>1</th>\n",
       "      <td>2008-01-01</td>\n",
       "      <td>Bedok</td>\n",
       "      <td>1rm_2rm</td>\n",
       "      <td>4205</td>\n",
       "    </tr>\n",
       "    <tr>\n",
       "      <th>2</th>\n",
       "      <td>2008-01-01</td>\n",
       "      <td>Bishan</td>\n",
       "      <td>1rm_2rm</td>\n",
       "      <td>396</td>\n",
       "    </tr>\n",
       "  </tbody>\n",
       "</table>\n",
       "</div>"
      ],
      "text/plain": [
       "        Year        Town Dwelling_Type  num_DwellUnits\n",
       "0 2008-01-01  Ang Mo Kio       1rm_2rm            4811\n",
       "1 2008-01-01       Bedok       1rm_2rm            4205\n",
       "2 2008-01-01      Bishan       1rm_2rm             396"
      ]
     },
     "metadata": {},
     "output_type": "display_data"
    },
    {
     "data": {
      "text/plain": [
       "Year              datetime64[ns]\n",
       "Town                      object\n",
       "Dwelling_Type             object\n",
       "num_DwellUnits             int64\n",
       "dtype: object"
      ]
     },
     "metadata": {},
     "output_type": "display_data"
    }
   ],
   "source": [
    "# convert Year to datetime object\n",
    "\n",
    "# df['Date'] = pd.to_datetime(df.Date, format='%Y-%m-%d %H:%M:%S')\n",
    "df.Year = pd.to_datetime(df['Year'], format='%Y')\n",
    "display(df.head(3))\n",
    "display(df.dtypes)"
   ]
  },
  {
   "cell_type": "code",
   "execution_count": 4,
   "id": "2622f4b0",
   "metadata": {},
   "outputs": [
    {
     "data": {
      "text/html": [
       "<div>\n",
       "<style scoped>\n",
       "    .dataframe tbody tr th:only-of-type {\n",
       "        vertical-align: middle;\n",
       "    }\n",
       "\n",
       "    .dataframe tbody tr th {\n",
       "        vertical-align: top;\n",
       "    }\n",
       "\n",
       "    .dataframe thead th {\n",
       "        text-align: right;\n",
       "    }\n",
       "</style>\n",
       "<table border=\"1\" class=\"dataframe\">\n",
       "  <thead>\n",
       "    <tr style=\"text-align: right;\">\n",
       "      <th></th>\n",
       "      <th>region</th>\n",
       "      <th>planning_area</th>\n",
       "    </tr>\n",
       "  </thead>\n",
       "  <tbody>\n",
       "    <tr>\n",
       "      <th>0</th>\n",
       "      <td>Central Region</td>\n",
       "      <td>Bishan</td>\n",
       "    </tr>\n",
       "    <tr>\n",
       "      <th>1</th>\n",
       "      <td>Central Region</td>\n",
       "      <td>Bukit Merah</td>\n",
       "    </tr>\n",
       "  </tbody>\n",
       "</table>\n",
       "</div>"
      ],
      "text/plain": [
       "           region planning_area\n",
       "0  Central Region        Bishan\n",
       "1  Central Region   Bukit Merah"
      ]
     },
     "metadata": {},
     "output_type": "display_data"
    },
    {
     "data": {
      "text/plain": [
       "region           object\n",
       "planning_area    object\n",
       "dtype: object"
      ]
     },
     "metadata": {},
     "output_type": "display_data"
    }
   ],
   "source": [
    "dfRegions = pd.read_csv('dfRegions.csv')\n",
    "display(dfRegions.head(2))\n",
    "display(dfRegions.dtypes)"
   ]
  },
  {
   "cell_type": "code",
   "execution_count": 5,
   "id": "a2e86696",
   "metadata": {},
   "outputs": [],
   "source": [
    "df['Region'] = df.Town.apply(lambda x: dfRegions[dfRegions.planning_area == x].region.values[0] )\n",
    "\n",
    "df = df[['Year', 'Region','Town', 'Dwelling_Type', 'num_DwellUnits']]\n",
    "df.sort_values(by=['Year','Region','Town','Dwelling_Type'], inplace=True)\n",
    "df.reset_index(drop=True, inplace=True)\n",
    "df.head(5)\n",
    "\n",
    "df.to_csv('dfDwellUnits.csv', index=False)"
   ]
  },
  {
   "cell_type": "code",
   "execution_count": 6,
   "id": "dabc406d",
   "metadata": {},
   "outputs": [],
   "source": [
    "del df\n",
    "del dfRegions"
   ]
  },
  {
   "cell_type": "markdown",
   "id": "bb6da459",
   "metadata": {},
   "source": [
    "# Add Region to 'dfHDB_ResidentAge.csv'"
   ]
  },
  {
   "cell_type": "code",
   "execution_count": 7,
   "id": "2d062d68",
   "metadata": {},
   "outputs": [
    {
     "name": "stdout",
     "output_type": "stream",
     "text": [
      "(8470, 4)\n",
      "   Year        Town   Age Grp  Num_Residents\n",
      "0  2000  Ang Mo Kio  00 to 04           9296\n",
      "1  2000       Bedok  00 to 04          16247\n",
      "2  2000      Bishan  00 to 04           5311\n"
     ]
    }
   ],
   "source": [
    "dfRegions = pd.read_csv('dfRegions.csv')\n",
    "\n",
    "df = pd.read_csv('dfHDB_ResidentAge.csv')\n",
    "print(df.shape)\n",
    "print(df.head(3))"
   ]
  },
  {
   "cell_type": "code",
   "execution_count": 8,
   "id": "cf473aa8",
   "metadata": {},
   "outputs": [
    {
     "data": {
      "text/html": [
       "<div>\n",
       "<style scoped>\n",
       "    .dataframe tbody tr th:only-of-type {\n",
       "        vertical-align: middle;\n",
       "    }\n",
       "\n",
       "    .dataframe tbody tr th {\n",
       "        vertical-align: top;\n",
       "    }\n",
       "\n",
       "    .dataframe thead th {\n",
       "        text-align: right;\n",
       "    }\n",
       "</style>\n",
       "<table border=\"1\" class=\"dataframe\">\n",
       "  <thead>\n",
       "    <tr style=\"text-align: right;\">\n",
       "      <th></th>\n",
       "      <th>Year</th>\n",
       "      <th>Town</th>\n",
       "      <th>Age Grp</th>\n",
       "      <th>Num_Residents</th>\n",
       "    </tr>\n",
       "  </thead>\n",
       "  <tbody>\n",
       "    <tr>\n",
       "      <th>0</th>\n",
       "      <td>2000-01-01</td>\n",
       "      <td>Ang Mo Kio</td>\n",
       "      <td>00 to 04</td>\n",
       "      <td>9296</td>\n",
       "    </tr>\n",
       "    <tr>\n",
       "      <th>1</th>\n",
       "      <td>2000-01-01</td>\n",
       "      <td>Bedok</td>\n",
       "      <td>00 to 04</td>\n",
       "      <td>16247</td>\n",
       "    </tr>\n",
       "    <tr>\n",
       "      <th>2</th>\n",
       "      <td>2000-01-01</td>\n",
       "      <td>Bishan</td>\n",
       "      <td>00 to 04</td>\n",
       "      <td>5311</td>\n",
       "    </tr>\n",
       "  </tbody>\n",
       "</table>\n",
       "</div>"
      ],
      "text/plain": [
       "        Year        Town   Age Grp  Num_Residents\n",
       "0 2000-01-01  Ang Mo Kio  00 to 04           9296\n",
       "1 2000-01-01       Bedok  00 to 04          16247\n",
       "2 2000-01-01      Bishan  00 to 04           5311"
      ]
     },
     "metadata": {},
     "output_type": "display_data"
    },
    {
     "data": {
      "text/plain": [
       "Year             datetime64[ns]\n",
       "Town                     object\n",
       "Age Grp                  object\n",
       "Num_Residents             int64\n",
       "dtype: object"
      ]
     },
     "metadata": {},
     "output_type": "display_data"
    }
   ],
   "source": [
    "df.Year = pd.to_datetime(df['Year'], format='%Y')\n",
    "display(df.head(3))\n",
    "display(df.dtypes)"
   ]
  },
  {
   "cell_type": "code",
   "execution_count": 9,
   "id": "734ad87f",
   "metadata": {},
   "outputs": [],
   "source": [
    "df['Region'] = df.Town.apply(lambda x: dfRegions[dfRegions.planning_area == x].region.values[0] )\n",
    "\n",
    "df = df[['Year', 'Region','Town', 'Age Grp', 'Num_Residents']]\n",
    "df.sort_values(by=['Year','Region','Town','Age Grp'], inplace=True)\n",
    "df.reset_index(drop=True, inplace=True)\n",
    "df.head(5)\n",
    "\n",
    "df.to_csv('dfHDB_ResidentAge.csv', index=False)"
   ]
  },
  {
   "cell_type": "code",
   "execution_count": 10,
   "id": "cce8c050",
   "metadata": {},
   "outputs": [],
   "source": [
    "del df\n",
    "del dfRegions"
   ]
  },
  {
   "cell_type": "markdown",
   "id": "9690ef75",
   "metadata": {},
   "source": [
    "# Convert dfHDB_ElecCons.csv 'Year' to datetime object\n",
    "easier for Tableau to pick up as a date"
   ]
  },
  {
   "cell_type": "code",
   "execution_count": 11,
   "id": "30f69a8e",
   "metadata": {},
   "outputs": [
    {
     "name": "stdout",
     "output_type": "stream",
     "text": [
      "(1740, 6)\n",
      "   Year          Region    Town Dwell_Type  AveMthly_kwh  Total_kwh\n",
      "0  2005  Central Region  Bishan    1rm_2rm         108.2     1298.4\n",
      "1  2005  Central Region  Bishan        3rm         262.4     3148.8\n",
      "2  2005  Central Region  Bishan        4rm         399.9     4798.8\n",
      "\n",
      "Year              int64\n",
      "Region           object\n",
      "Town             object\n",
      "Dwell_Type       object\n",
      "AveMthly_kwh    float64\n",
      "Total_kwh       float64\n",
      "dtype: object\n"
     ]
    }
   ],
   "source": [
    "df = pd.read_csv('dfHDB_ElecCons.csv')\n",
    "print(df.shape)\n",
    "print(df.head(3))\n",
    "print()\n",
    "print(df.dtypes)"
   ]
  },
  {
   "cell_type": "code",
   "execution_count": 12,
   "id": "d5c92130",
   "metadata": {},
   "outputs": [
    {
     "data": {
      "text/html": [
       "<div>\n",
       "<style scoped>\n",
       "    .dataframe tbody tr th:only-of-type {\n",
       "        vertical-align: middle;\n",
       "    }\n",
       "\n",
       "    .dataframe tbody tr th {\n",
       "        vertical-align: top;\n",
       "    }\n",
       "\n",
       "    .dataframe thead th {\n",
       "        text-align: right;\n",
       "    }\n",
       "</style>\n",
       "<table border=\"1\" class=\"dataframe\">\n",
       "  <thead>\n",
       "    <tr style=\"text-align: right;\">\n",
       "      <th></th>\n",
       "      <th>Year</th>\n",
       "      <th>Region</th>\n",
       "      <th>Town</th>\n",
       "      <th>Dwell_Type</th>\n",
       "      <th>AveMthly_kwh</th>\n",
       "      <th>Total_kwh</th>\n",
       "    </tr>\n",
       "  </thead>\n",
       "  <tbody>\n",
       "    <tr>\n",
       "      <th>0</th>\n",
       "      <td>2005-01-01</td>\n",
       "      <td>Central Region</td>\n",
       "      <td>Bishan</td>\n",
       "      <td>1rm_2rm</td>\n",
       "      <td>108.2</td>\n",
       "      <td>1298.4</td>\n",
       "    </tr>\n",
       "    <tr>\n",
       "      <th>1</th>\n",
       "      <td>2005-01-01</td>\n",
       "      <td>Central Region</td>\n",
       "      <td>Bishan</td>\n",
       "      <td>3rm</td>\n",
       "      <td>262.4</td>\n",
       "      <td>3148.8</td>\n",
       "    </tr>\n",
       "    <tr>\n",
       "      <th>2</th>\n",
       "      <td>2005-01-01</td>\n",
       "      <td>Central Region</td>\n",
       "      <td>Bishan</td>\n",
       "      <td>4rm</td>\n",
       "      <td>399.9</td>\n",
       "      <td>4798.8</td>\n",
       "    </tr>\n",
       "  </tbody>\n",
       "</table>\n",
       "</div>"
      ],
      "text/plain": [
       "        Year          Region    Town Dwell_Type  AveMthly_kwh  Total_kwh\n",
       "0 2005-01-01  Central Region  Bishan    1rm_2rm         108.2     1298.4\n",
       "1 2005-01-01  Central Region  Bishan        3rm         262.4     3148.8\n",
       "2 2005-01-01  Central Region  Bishan        4rm         399.9     4798.8"
      ]
     },
     "metadata": {},
     "output_type": "display_data"
    },
    {
     "data": {
      "text/plain": [
       "Year            datetime64[ns]\n",
       "Region                  object\n",
       "Town                    object\n",
       "Dwell_Type              object\n",
       "AveMthly_kwh           float64\n",
       "Total_kwh              float64\n",
       "dtype: object"
      ]
     },
     "metadata": {},
     "output_type": "display_data"
    }
   ],
   "source": [
    "df.Year = pd.to_datetime(df['Year'], format='%Y')\n",
    "display(df.head(3))\n",
    "display(df.dtypes)"
   ]
  },
  {
   "cell_type": "code",
   "execution_count": 13,
   "id": "8be8d686",
   "metadata": {},
   "outputs": [],
   "source": [
    "df.to_csv('dfHDB_ElecCons.csv',index=False)\n",
    "del df"
   ]
  }
 ],
 "metadata": {
  "kernelspec": {
   "display_name": "Python 3",
   "language": "python",
   "name": "python3"
  },
  "language_info": {
   "codemirror_mode": {
    "name": "ipython",
    "version": 3
   },
   "file_extension": ".py",
   "mimetype": "text/x-python",
   "name": "python",
   "nbconvert_exporter": "python",
   "pygments_lexer": "ipython3",
   "version": "3.8.10"
  }
 },
 "nbformat": 4,
 "nbformat_minor": 5
}
