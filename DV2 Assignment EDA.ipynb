{
 "cells": [
  {
   "cell_type": "markdown",
   "id": "8bde1b57",
   "metadata": {},
   "source": [
    "# DV2 Assignment EDA"
   ]
  },
  {
   "cell_type": "markdown",
   "id": "d3b29535",
   "metadata": {},
   "source": [
    "Imports"
   ]
  },
  {
   "cell_type": "code",
   "execution_count": 1,
   "id": "d5eafe7d",
   "metadata": {},
   "outputs": [],
   "source": [
    "# Data\n",
    "import pandas as pd\n",
    "import numpy as np\n",
    "\n",
    "# Viz\n",
    "from matplotlib import pyplot as plt\n",
    "import seaborn as sns\n",
    "#sns.set_theme()  # default theme\n",
    "# sns.set(style='whitegrid')\n",
    "# References\n",
    "# http://seaborn.pydata.org/introduction.html\n",
    "# https://www.codecademy.com/articles/seaborn-design-ii (color)\n",
    "# https://seaborn.pydata.org/examples/index.html (examples)\n",
    "sns.set(style='whitegrid', palette=\"deep\", font_scale=1.1, rc={\"figure.figsize\": [8, 5]})"
   ]
  },
  {
   "cell_type": "markdown",
   "id": "8de46a5d",
   "metadata": {},
   "source": [
    "# 1.0 HDB Dwelling Units"
   ]
  },
  {
   "cell_type": "code",
   "execution_count": 2,
   "id": "f08bb5d7",
   "metadata": {},
   "outputs": [
    {
     "name": "stdout",
     "output_type": "stream",
     "text": [
      "(1256, 5)\n",
      "         Year          Region    Town Dwelling_Type  num_DwellUnits\n",
      "0  2008-01-01  Central Region  Bishan       1rm_2rm             396\n",
      "1  2008-01-01  Central Region  Bishan           3rm            2359\n",
      "2  2008-01-01  Central Region  Bishan           4rm            9199\n"
     ]
    }
   ],
   "source": [
    "dfDwellUnits = pd.read_csv('dfDwellUnits.csv')\n",
    "\n",
    "print(dfDwellUnits.shape)\n",
    "print(dfDwellUnits.head(3))"
   ]
  },
  {
   "cell_type": "code",
   "execution_count": 3,
   "id": "6e8f9b6a",
   "metadata": {},
   "outputs": [
    {
     "data": {
      "text/plain": [
       "Year              object\n",
       "Region            object\n",
       "Town              object\n",
       "Dwelling_Type     object\n",
       "num_DwellUnits     int64\n",
       "dtype: object"
      ]
     },
     "metadata": {},
     "output_type": "display_data"
    },
    {
     "data": {
      "text/html": [
       "<div>\n",
       "<style scoped>\n",
       "    .dataframe tbody tr th:only-of-type {\n",
       "        vertical-align: middle;\n",
       "    }\n",
       "\n",
       "    .dataframe tbody tr th {\n",
       "        vertical-align: top;\n",
       "    }\n",
       "\n",
       "    .dataframe thead th {\n",
       "        text-align: right;\n",
       "    }\n",
       "</style>\n",
       "<table border=\"1\" class=\"dataframe\">\n",
       "  <thead>\n",
       "    <tr style=\"text-align: right;\">\n",
       "      <th></th>\n",
       "      <th>Year</th>\n",
       "      <th>Region</th>\n",
       "      <th>Town</th>\n",
       "      <th>Dwelling_Type</th>\n",
       "      <th>num_DwellUnits</th>\n",
       "    </tr>\n",
       "  </thead>\n",
       "  <tbody>\n",
       "    <tr>\n",
       "      <th>0</th>\n",
       "      <td>2008-01-01</td>\n",
       "      <td>Central Region</td>\n",
       "      <td>Bishan</td>\n",
       "      <td>1rm_2rm</td>\n",
       "      <td>396</td>\n",
       "    </tr>\n",
       "    <tr>\n",
       "      <th>1</th>\n",
       "      <td>2008-01-01</td>\n",
       "      <td>Central Region</td>\n",
       "      <td>Bishan</td>\n",
       "      <td>3rm</td>\n",
       "      <td>2359</td>\n",
       "    </tr>\n",
       "    <tr>\n",
       "      <th>2</th>\n",
       "      <td>2008-01-01</td>\n",
       "      <td>Central Region</td>\n",
       "      <td>Bishan</td>\n",
       "      <td>4rm</td>\n",
       "      <td>9199</td>\n",
       "    </tr>\n",
       "  </tbody>\n",
       "</table>\n",
       "</div>"
      ],
      "text/plain": [
       "        Year          Region    Town Dwelling_Type  num_DwellUnits\n",
       "0 2008-01-01  Central Region  Bishan       1rm_2rm             396\n",
       "1 2008-01-01  Central Region  Bishan           3rm            2359\n",
       "2 2008-01-01  Central Region  Bishan           4rm            9199"
      ]
     },
     "metadata": {},
     "output_type": "display_data"
    },
    {
     "data": {
      "text/plain": [
       "Year              datetime64[ns]\n",
       "Region                    object\n",
       "Town                      object\n",
       "Dwelling_Type             object\n",
       "num_DwellUnits             int64\n",
       "dtype: object"
      ]
     },
     "metadata": {},
     "output_type": "display_data"
    }
   ],
   "source": [
    "display(dfDwellUnits.dtypes)\n",
    "# df['Date'] = pd.to_datetime(df.Date, format='%Y-%m-%d %H:%M:%S')\n",
    "dfDwellUnits.Year = pd.to_datetime(dfDwellUnits['Year'])\n",
    "display(dfDwellUnits.head(3))\n",
    "display(dfDwellUnits.dtypes)"
   ]
  },
  {
   "cell_type": "code",
   "execution_count": 4,
   "id": "2b6f458e",
   "metadata": {},
   "outputs": [
    {
     "name": "stdout",
     "output_type": "stream",
     "text": [
      "<class 'pandas.core.frame.DataFrame'>\n",
      "RangeIndex: 1256 entries, 0 to 1255\n",
      "Data columns (total 5 columns):\n",
      " #   Column          Non-Null Count  Dtype         \n",
      "---  ------          --------------  -----         \n",
      " 0   Year            1256 non-null   datetime64[ns]\n",
      " 1   Region          1256 non-null   object        \n",
      " 2   Town            1256 non-null   object        \n",
      " 3   Dwelling_Type   1256 non-null   object        \n",
      " 4   num_DwellUnits  1256 non-null   int64         \n",
      "dtypes: datetime64[ns](1), int64(1), object(3)\n",
      "memory usage: 49.2+ KB\n"
     ]
    }
   ],
   "source": [
    "dfDwellUnits.info()"
   ]
  },
  {
   "cell_type": "code",
   "execution_count": 5,
   "id": "23004fdb",
   "metadata": {},
   "outputs": [
    {
     "data": {
      "text/html": [
       "<div>\n",
       "<style scoped>\n",
       "    .dataframe tbody tr th:only-of-type {\n",
       "        vertical-align: middle;\n",
       "    }\n",
       "\n",
       "    .dataframe tbody tr th {\n",
       "        vertical-align: top;\n",
       "    }\n",
       "\n",
       "    .dataframe thead th {\n",
       "        text-align: right;\n",
       "    }\n",
       "</style>\n",
       "<table border=\"1\" class=\"dataframe\">\n",
       "  <thead>\n",
       "    <tr style=\"text-align: right;\">\n",
       "      <th></th>\n",
       "      <th>Region</th>\n",
       "      <th>Town</th>\n",
       "      <th>Dwelling_Type</th>\n",
       "      <th>num_DwellUnits</th>\n",
       "    </tr>\n",
       "  </thead>\n",
       "  <tbody>\n",
       "    <tr>\n",
       "      <th>count</th>\n",
       "      <td>1256</td>\n",
       "      <td>1256</td>\n",
       "      <td>1256</td>\n",
       "      <td>1256.0</td>\n",
       "    </tr>\n",
       "    <tr>\n",
       "      <th>unique</th>\n",
       "      <td>5</td>\n",
       "      <td>27</td>\n",
       "      <td>4</td>\n",
       "      <td>NaN</td>\n",
       "    </tr>\n",
       "    <tr>\n",
       "      <th>top</th>\n",
       "      <td>Central Region</td>\n",
       "      <td>Marine Parade</td>\n",
       "      <td>5rm_Exec</td>\n",
       "      <td>NaN</td>\n",
       "    </tr>\n",
       "    <tr>\n",
       "      <th>freq</th>\n",
       "      <td>432</td>\n",
       "      <td>48</td>\n",
       "      <td>314</td>\n",
       "      <td>NaN</td>\n",
       "    </tr>\n",
       "    <tr>\n",
       "      <th>mean</th>\n",
       "      <td>NaN</td>\n",
       "      <td>NaN</td>\n",
       "      <td>NaN</td>\n",
       "      <td>9252.9</td>\n",
       "    </tr>\n",
       "    <tr>\n",
       "      <th>std</th>\n",
       "      <td>NaN</td>\n",
       "      <td>NaN</td>\n",
       "      <td>NaN</td>\n",
       "      <td>8045.3</td>\n",
       "    </tr>\n",
       "    <tr>\n",
       "      <th>min</th>\n",
       "      <td>NaN</td>\n",
       "      <td>NaN</td>\n",
       "      <td>NaN</td>\n",
       "      <td>0.0</td>\n",
       "    </tr>\n",
       "    <tr>\n",
       "      <th>25%</th>\n",
       "      <td>NaN</td>\n",
       "      <td>NaN</td>\n",
       "      <td>NaN</td>\n",
       "      <td>2463.0</td>\n",
       "    </tr>\n",
       "    <tr>\n",
       "      <th>50%</th>\n",
       "      <td>NaN</td>\n",
       "      <td>NaN</td>\n",
       "      <td>NaN</td>\n",
       "      <td>7376.0</td>\n",
       "    </tr>\n",
       "    <tr>\n",
       "      <th>75%</th>\n",
       "      <td>NaN</td>\n",
       "      <td>NaN</td>\n",
       "      <td>NaN</td>\n",
       "      <td>13682.0</td>\n",
       "    </tr>\n",
       "    <tr>\n",
       "      <th>max</th>\n",
       "      <td>NaN</td>\n",
       "      <td>NaN</td>\n",
       "      <td>NaN</td>\n",
       "      <td>31760.0</td>\n",
       "    </tr>\n",
       "  </tbody>\n",
       "</table>\n",
       "</div>"
      ],
      "text/plain": [
       "                Region           Town Dwelling_Type  num_DwellUnits\n",
       "count             1256           1256          1256          1256.0\n",
       "unique               5             27             4             NaN\n",
       "top     Central Region  Marine Parade      5rm_Exec             NaN\n",
       "freq               432             48           314             NaN\n",
       "mean               NaN            NaN           NaN          9252.9\n",
       "std                NaN            NaN           NaN          8045.3\n",
       "min                NaN            NaN           NaN             0.0\n",
       "25%                NaN            NaN           NaN          2463.0\n",
       "50%                NaN            NaN           NaN          7376.0\n",
       "75%                NaN            NaN           NaN         13682.0\n",
       "max                NaN            NaN           NaN         31760.0"
      ]
     },
     "execution_count": 5,
     "metadata": {},
     "output_type": "execute_result"
    }
   ],
   "source": [
    "dfDwellUnits[dfDwellUnits.columns[1:]].describe(include='all').round(1)"
   ]
  },
  {
   "cell_type": "code",
   "execution_count": 6,
   "id": "cb98d640",
   "metadata": {},
   "outputs": [
    {
     "data": {
      "text/plain": [
       "<matplotlib.legend.Legend at 0x20ae2bd7730>"
      ]
     },
     "execution_count": 6,
     "metadata": {},
     "output_type": "execute_result"
    },
    {
     "data": {
      "image/png": "[encoded data removed]",
      "text/plain": [
       "<Figure size 576x360 with 1 Axes>"
      ]
     },
     "metadata": {},
     "output_type": "display_data"
    }
   ],
   "source": [
    "sns.lineplot(data=dfDwellUnits, x='Year', y='num_DwellUnits',hue='Dwelling_Type');\n",
    "plt.legend(bbox_to_anchor=(1.05, 1), loc='upper left', borderaxespad=0)"
   ]
  },
  {
   "cell_type": "markdown",
   "id": "c95c78ef",
   "metadata": {},
   "source": [
    "# 2.0 HDB Residents"
   ]
  },
  {
   "cell_type": "code",
   "execution_count": 7,
   "id": "a6e07be9",
   "metadata": {},
   "outputs": [
    {
     "name": "stdout",
     "output_type": "stream",
     "text": [
      "(8470, 5)\n",
      "         Year          Region    Town   Age Grp  Num_Residents\n",
      "0  2000-01-01  Central Region  Bishan  00 to 04           5311\n",
      "1  2000-01-01  Central Region  Bishan  05 to 09           8209\n",
      "2  2000-01-01  Central Region  Bishan  10 to 14           6826\n"
     ]
    }
   ],
   "source": [
    "dfHDB_Residents = pd.read_csv('dfHDB_ResidentAge.csv')\n",
    "\n",
    "print(dfHDB_Residents.shape)\n",
    "print(dfHDB_Residents.head(3))"
   ]
  },
  {
   "cell_type": "code",
   "execution_count": 8,
   "id": "2ab19c4d",
   "metadata": {},
   "outputs": [
    {
     "data": {
      "text/plain": [
       "Year             object\n",
       "Region           object\n",
       "Town             object\n",
       "Age Grp          object\n",
       "Num_Residents     int64\n",
       "dtype: object"
      ]
     },
     "metadata": {},
     "output_type": "display_data"
    },
    {
     "data": {
      "text/html": [
       "<div>\n",
       "<style scoped>\n",
       "    .dataframe tbody tr th:only-of-type {\n",
       "        vertical-align: middle;\n",
       "    }\n",
       "\n",
       "    .dataframe tbody tr th {\n",
       "        vertical-align: top;\n",
       "    }\n",
       "\n",
       "    .dataframe thead th {\n",
       "        text-align: right;\n",
       "    }\n",
       "</style>\n",
       "<table border=\"1\" class=\"dataframe\">\n",
       "  <thead>\n",
       "    <tr style=\"text-align: right;\">\n",
       "      <th></th>\n",
       "      <th>Year</th>\n",
       "      <th>Region</th>\n",
       "      <th>Town</th>\n",
       "      <th>Age Grp</th>\n",
       "      <th>Num_Residents</th>\n",
       "    </tr>\n",
       "  </thead>\n",
       "  <tbody>\n",
       "    <tr>\n",
       "      <th>0</th>\n",
       "      <td>2000-01-01</td>\n",
       "      <td>Central Region</td>\n",
       "      <td>Bishan</td>\n",
       "      <td>00 to 04</td>\n",
       "      <td>5311</td>\n",
       "    </tr>\n",
       "    <tr>\n",
       "      <th>1</th>\n",
       "      <td>2000-01-01</td>\n",
       "      <td>Central Region</td>\n",
       "      <td>Bishan</td>\n",
       "      <td>05 to 09</td>\n",
       "      <td>8209</td>\n",
       "    </tr>\n",
       "    <tr>\n",
       "      <th>2</th>\n",
       "      <td>2000-01-01</td>\n",
       "      <td>Central Region</td>\n",
       "      <td>Bishan</td>\n",
       "      <td>10 to 14</td>\n",
       "      <td>6826</td>\n",
       "    </tr>\n",
       "  </tbody>\n",
       "</table>\n",
       "</div>"
      ],
      "text/plain": [
       "        Year          Region    Town   Age Grp  Num_Residents\n",
       "0 2000-01-01  Central Region  Bishan  00 to 04           5311\n",
       "1 2000-01-01  Central Region  Bishan  05 to 09           8209\n",
       "2 2000-01-01  Central Region  Bishan  10 to 14           6826"
      ]
     },
     "metadata": {},
     "output_type": "display_data"
    },
    {
     "data": {
      "text/plain": [
       "Year             datetime64[ns]\n",
       "Region                   object\n",
       "Town                     object\n",
       "Age Grp                  object\n",
       "Num_Residents             int64\n",
       "dtype: object"
      ]
     },
     "metadata": {},
     "output_type": "display_data"
    }
   ],
   "source": [
    "display(dfHDB_Residents.dtypes)\n",
    "dfHDB_Residents.Year = pd.to_datetime(dfHDB_Residents['Year'])\n",
    "display(dfHDB_Residents.head(3))\n",
    "display(dfHDB_Residents.dtypes)"
   ]
  },
  {
   "cell_type": "code",
   "execution_count": 9,
   "id": "11bf3eb7",
   "metadata": {},
   "outputs": [
    {
     "name": "stdout",
     "output_type": "stream",
     "text": [
      "<class 'pandas.core.frame.DataFrame'>\n",
      "RangeIndex: 8470 entries, 0 to 8469\n",
      "Data columns (total 5 columns):\n",
      " #   Column         Non-Null Count  Dtype         \n",
      "---  ------         --------------  -----         \n",
      " 0   Year           8470 non-null   datetime64[ns]\n",
      " 1   Region         8470 non-null   object        \n",
      " 2   Town           8470 non-null   object        \n",
      " 3   Age Grp        8470 non-null   object        \n",
      " 4   Num_Residents  8470 non-null   int64         \n",
      "dtypes: datetime64[ns](1), int64(1), object(3)\n",
      "memory usage: 331.0+ KB\n"
     ]
    }
   ],
   "source": [
    "dfHDB_Residents.info()"
   ]
  },
  {
   "cell_type": "code",
   "execution_count": 10,
   "id": "08e54cbb",
   "metadata": {},
   "outputs": [
    {
     "data": {
      "text/html": [
       "<div>\n",
       "<style scoped>\n",
       "    .dataframe tbody tr th:only-of-type {\n",
       "        vertical-align: middle;\n",
       "    }\n",
       "\n",
       "    .dataframe tbody tr th {\n",
       "        vertical-align: top;\n",
       "    }\n",
       "\n",
       "    .dataframe thead th {\n",
       "        text-align: right;\n",
       "    }\n",
       "</style>\n",
       "<table border=\"1\" class=\"dataframe\">\n",
       "  <thead>\n",
       "    <tr style=\"text-align: right;\">\n",
       "      <th></th>\n",
       "      <th>Region</th>\n",
       "      <th>Town</th>\n",
       "      <th>Age Grp</th>\n",
       "      <th>Num_Residents</th>\n",
       "    </tr>\n",
       "  </thead>\n",
       "  <tbody>\n",
       "    <tr>\n",
       "      <th>count</th>\n",
       "      <td>8470</td>\n",
       "      <td>8470</td>\n",
       "      <td>8470</td>\n",
       "      <td>8470.0</td>\n",
       "    </tr>\n",
       "    <tr>\n",
       "      <th>unique</th>\n",
       "      <td>5</td>\n",
       "      <td>30</td>\n",
       "      <td>14</td>\n",
       "      <td>NaN</td>\n",
       "    </tr>\n",
       "    <tr>\n",
       "      <th>top</th>\n",
       "      <td>Central Region</td>\n",
       "      <td>Bukit Timah</td>\n",
       "      <td>50 to 54</td>\n",
       "      <td>NaN</td>\n",
       "    </tr>\n",
       "    <tr>\n",
       "      <th>freq</th>\n",
       "      <td>3528</td>\n",
       "      <td>294</td>\n",
       "      <td>605</td>\n",
       "      <td>NaN</td>\n",
       "    </tr>\n",
       "    <tr>\n",
       "      <th>mean</th>\n",
       "      <td>NaN</td>\n",
       "      <td>NaN</td>\n",
       "      <td>NaN</td>\n",
       "      <td>8959.6</td>\n",
       "    </tr>\n",
       "    <tr>\n",
       "      <th>std</th>\n",
       "      <td>NaN</td>\n",
       "      <td>NaN</td>\n",
       "      <td>NaN</td>\n",
       "      <td>6010.9</td>\n",
       "    </tr>\n",
       "    <tr>\n",
       "      <th>min</th>\n",
       "      <td>NaN</td>\n",
       "      <td>NaN</td>\n",
       "      <td>NaN</td>\n",
       "      <td>0.0</td>\n",
       "    </tr>\n",
       "    <tr>\n",
       "      <th>25%</th>\n",
       "      <td>NaN</td>\n",
       "      <td>NaN</td>\n",
       "      <td>NaN</td>\n",
       "      <td>4537.2</td>\n",
       "    </tr>\n",
       "    <tr>\n",
       "      <th>50%</th>\n",
       "      <td>NaN</td>\n",
       "      <td>NaN</td>\n",
       "      <td>NaN</td>\n",
       "      <td>7713.0</td>\n",
       "    </tr>\n",
       "    <tr>\n",
       "      <th>75%</th>\n",
       "      <td>NaN</td>\n",
       "      <td>NaN</td>\n",
       "      <td>NaN</td>\n",
       "      <td>12471.5</td>\n",
       "    </tr>\n",
       "    <tr>\n",
       "      <th>max</th>\n",
       "      <td>NaN</td>\n",
       "      <td>NaN</td>\n",
       "      <td>NaN</td>\n",
       "      <td>53370.0</td>\n",
       "    </tr>\n",
       "  </tbody>\n",
       "</table>\n",
       "</div>"
      ],
      "text/plain": [
       "                Region         Town   Age Grp  Num_Residents\n",
       "count             8470         8470      8470         8470.0\n",
       "unique               5           30        14            NaN\n",
       "top     Central Region  Bukit Timah  50 to 54            NaN\n",
       "freq              3528          294       605            NaN\n",
       "mean               NaN          NaN       NaN         8959.6\n",
       "std                NaN          NaN       NaN         6010.9\n",
       "min                NaN          NaN       NaN            0.0\n",
       "25%                NaN          NaN       NaN         4537.2\n",
       "50%                NaN          NaN       NaN         7713.0\n",
       "75%                NaN          NaN       NaN        12471.5\n",
       "max                NaN          NaN       NaN        53370.0"
      ]
     },
     "execution_count": 10,
     "metadata": {},
     "output_type": "execute_result"
    }
   ],
   "source": [
    "dfHDB_Residents[dfHDB_Residents.columns[1:]].describe(include='all').round(1)"
   ]
  },
  {
   "cell_type": "code",
   "execution_count": 29,
   "id": "3987dda0",
   "metadata": {},
   "outputs": [
    {
     "data": {
      "text/plain": [
       "<matplotlib.legend.Legend at 0x20ae655ac40>"
      ]
     },
     "execution_count": 29,
     "metadata": {},
     "output_type": "execute_result"
    },
    {
     "data": {
      "image/png": "[encoded data removed]",
      "text/plain": [
       "<Figure size 576x360 with 1 Axes>"
      ]
     },
     "metadata": {},
     "output_type": "display_data"
    }
   ],
   "source": [
    "sns.lineplot(data=dfHDB_Residents, x='Year', y='Num_Residents',hue='Age Grp', palette='Set1', ci=None);\n",
    "plt.legend(bbox_to_anchor=(1.05, 1), loc='upper left', borderaxespad=0)"
   ]
  },
  {
   "cell_type": "markdown",
   "id": "66acf45c",
   "metadata": {},
   "source": [
    "# 3.0 Electricity Consumptions"
   ]
  },
  {
   "cell_type": "code",
   "execution_count": 30,
   "id": "a89e47bb",
   "metadata": {},
   "outputs": [
    {
     "name": "stdout",
     "output_type": "stream",
     "text": [
      "(1740, 6)\n",
      "         Year          Region    Town Dwell_Type  AveMthly_kwh  Total_kwh\n",
      "0  2005-01-01  Central Region  Bishan    1rm_2rm         108.2     1298.4\n",
      "1  2005-01-01  Central Region  Bishan        3rm         262.4     3148.8\n",
      "2  2005-01-01  Central Region  Bishan        4rm         399.9     4798.8\n"
     ]
    }
   ],
   "source": [
    "dfHDB_ElecCons = pd.read_csv('dfHDB_ElecCons.csv')\n",
    "\n",
    "print(dfHDB_ElecCons.shape)\n",
    "print(dfHDB_ElecCons.head(3))"
   ]
  },
  {
   "cell_type": "code",
   "execution_count": 31,
   "id": "fa574a81",
   "metadata": {},
   "outputs": [
    {
     "data": {
      "text/plain": [
       "Year             object\n",
       "Region           object\n",
       "Town             object\n",
       "Dwell_Type       object\n",
       "AveMthly_kwh    float64\n",
       "Total_kwh       float64\n",
       "dtype: object"
      ]
     },
     "metadata": {},
     "output_type": "display_data"
    },
    {
     "data": {
      "text/html": [
       "<div>\n",
       "<style scoped>\n",
       "    .dataframe tbody tr th:only-of-type {\n",
       "        vertical-align: middle;\n",
       "    }\n",
       "\n",
       "    .dataframe tbody tr th {\n",
       "        vertical-align: top;\n",
       "    }\n",
       "\n",
       "    .dataframe thead th {\n",
       "        text-align: right;\n",
       "    }\n",
       "</style>\n",
       "<table border=\"1\" class=\"dataframe\">\n",
       "  <thead>\n",
       "    <tr style=\"text-align: right;\">\n",
       "      <th></th>\n",
       "      <th>Year</th>\n",
       "      <th>Region</th>\n",
       "      <th>Town</th>\n",
       "      <th>Dwell_Type</th>\n",
       "      <th>AveMthly_kwh</th>\n",
       "      <th>Total_kwh</th>\n",
       "    </tr>\n",
       "  </thead>\n",
       "  <tbody>\n",
       "    <tr>\n",
       "      <th>0</th>\n",
       "      <td>2005-01-01</td>\n",
       "      <td>Central Region</td>\n",
       "      <td>Bishan</td>\n",
       "      <td>1rm_2rm</td>\n",
       "      <td>108.2</td>\n",
       "      <td>1298.4</td>\n",
       "    </tr>\n",
       "    <tr>\n",
       "      <th>1</th>\n",
       "      <td>2005-01-01</td>\n",
       "      <td>Central Region</td>\n",
       "      <td>Bishan</td>\n",
       "      <td>3rm</td>\n",
       "      <td>262.4</td>\n",
       "      <td>3148.8</td>\n",
       "    </tr>\n",
       "    <tr>\n",
       "      <th>2</th>\n",
       "      <td>2005-01-01</td>\n",
       "      <td>Central Region</td>\n",
       "      <td>Bishan</td>\n",
       "      <td>4rm</td>\n",
       "      <td>399.9</td>\n",
       "      <td>4798.8</td>\n",
       "    </tr>\n",
       "  </tbody>\n",
       "</table>\n",
       "</div>"
      ],
      "text/plain": [
       "        Year          Region    Town Dwell_Type  AveMthly_kwh  Total_kwh\n",
       "0 2005-01-01  Central Region  Bishan    1rm_2rm         108.2     1298.4\n",
       "1 2005-01-01  Central Region  Bishan        3rm         262.4     3148.8\n",
       "2 2005-01-01  Central Region  Bishan        4rm         399.9     4798.8"
      ]
     },
     "metadata": {},
     "output_type": "display_data"
    },
    {
     "data": {
      "text/plain": [
       "Year            datetime64[ns]\n",
       "Region                  object\n",
       "Town                    object\n",
       "Dwell_Type              object\n",
       "AveMthly_kwh           float64\n",
       "Total_kwh              float64\n",
       "dtype: object"
      ]
     },
     "metadata": {},
     "output_type": "display_data"
    }
   ],
   "source": [
    "display(dfHDB_ElecCons.dtypes)\n",
    "dfHDB_ElecCons.Year = pd.to_datetime(dfHDB_ElecCons['Year'])\n",
    "display(dfHDB_ElecCons.head(3))\n",
    "display(dfHDB_ElecCons.dtypes)"
   ]
  },
  {
   "cell_type": "code",
   "execution_count": 32,
   "id": "3c070363",
   "metadata": {},
   "outputs": [
    {
     "name": "stdout",
     "output_type": "stream",
     "text": [
      "<class 'pandas.core.frame.DataFrame'>\n",
      "RangeIndex: 1740 entries, 0 to 1739\n",
      "Data columns (total 6 columns):\n",
      " #   Column        Non-Null Count  Dtype         \n",
      "---  ------        --------------  -----         \n",
      " 0   Year          1740 non-null   datetime64[ns]\n",
      " 1   Region        1740 non-null   object        \n",
      " 2   Town          1740 non-null   object        \n",
      " 3   Dwell_Type    1740 non-null   object        \n",
      " 4   AveMthly_kwh  1740 non-null   float64       \n",
      " 5   Total_kwh     1740 non-null   float64       \n",
      "dtypes: datetime64[ns](1), float64(2), object(3)\n",
      "memory usage: 81.7+ KB\n"
     ]
    }
   ],
   "source": [
    "dfHDB_ElecCons.info()"
   ]
  },
  {
   "cell_type": "code",
   "execution_count": 33,
   "id": "ba5bc607",
   "metadata": {},
   "outputs": [
    {
     "data": {
      "text/html": [
       "<div>\n",
       "<style scoped>\n",
       "    .dataframe tbody tr th:only-of-type {\n",
       "        vertical-align: middle;\n",
       "    }\n",
       "\n",
       "    .dataframe tbody tr th {\n",
       "        vertical-align: top;\n",
       "    }\n",
       "\n",
       "    .dataframe thead th {\n",
       "        text-align: right;\n",
       "    }\n",
       "</style>\n",
       "<table border=\"1\" class=\"dataframe\">\n",
       "  <thead>\n",
       "    <tr style=\"text-align: right;\">\n",
       "      <th></th>\n",
       "      <th>Region</th>\n",
       "      <th>Town</th>\n",
       "      <th>Dwell_Type</th>\n",
       "      <th>AveMthly_kwh</th>\n",
       "      <th>Total_kwh</th>\n",
       "    </tr>\n",
       "  </thead>\n",
       "  <tbody>\n",
       "    <tr>\n",
       "      <th>count</th>\n",
       "      <td>1740</td>\n",
       "      <td>1740</td>\n",
       "      <td>1740</td>\n",
       "      <td>1740.0</td>\n",
       "      <td>1740.0</td>\n",
       "    </tr>\n",
       "    <tr>\n",
       "      <th>unique</th>\n",
       "      <td>5</td>\n",
       "      <td>29</td>\n",
       "      <td>4</td>\n",
       "      <td>NaN</td>\n",
       "      <td>NaN</td>\n",
       "    </tr>\n",
       "    <tr>\n",
       "      <th>top</th>\n",
       "      <td>Central Region</td>\n",
       "      <td>Ang Mo Kio</td>\n",
       "      <td>3rm</td>\n",
       "      <td>NaN</td>\n",
       "      <td>NaN</td>\n",
       "    </tr>\n",
       "    <tr>\n",
       "      <th>freq</th>\n",
       "      <td>720</td>\n",
       "      <td>60</td>\n",
       "      <td>435</td>\n",
       "      <td>NaN</td>\n",
       "      <td>NaN</td>\n",
       "    </tr>\n",
       "    <tr>\n",
       "      <th>mean</th>\n",
       "      <td>NaN</td>\n",
       "      <td>NaN</td>\n",
       "      <td>NaN</td>\n",
       "      <td>309.8</td>\n",
       "      <td>3717.5</td>\n",
       "    </tr>\n",
       "    <tr>\n",
       "      <th>std</th>\n",
       "      <td>NaN</td>\n",
       "      <td>NaN</td>\n",
       "      <td>NaN</td>\n",
       "      <td>130.8</td>\n",
       "      <td>1569.1</td>\n",
       "    </tr>\n",
       "    <tr>\n",
       "      <th>min</th>\n",
       "      <td>NaN</td>\n",
       "      <td>NaN</td>\n",
       "      <td>NaN</td>\n",
       "      <td>0.0</td>\n",
       "      <td>0.0</td>\n",
       "    </tr>\n",
       "    <tr>\n",
       "      <th>25%</th>\n",
       "      <td>NaN</td>\n",
       "      <td>NaN</td>\n",
       "      <td>NaN</td>\n",
       "      <td>189.1</td>\n",
       "      <td>2269.5</td>\n",
       "    </tr>\n",
       "    <tr>\n",
       "      <th>50%</th>\n",
       "      <td>NaN</td>\n",
       "      <td>NaN</td>\n",
       "      <td>NaN</td>\n",
       "      <td>325.2</td>\n",
       "      <td>3902.4</td>\n",
       "    </tr>\n",
       "    <tr>\n",
       "      <th>75%</th>\n",
       "      <td>NaN</td>\n",
       "      <td>NaN</td>\n",
       "      <td>NaN</td>\n",
       "      <td>414.0</td>\n",
       "      <td>4968.6</td>\n",
       "    </tr>\n",
       "    <tr>\n",
       "      <th>max</th>\n",
       "      <td>NaN</td>\n",
       "      <td>NaN</td>\n",
       "      <td>NaN</td>\n",
       "      <td>653.0</td>\n",
       "      <td>7836.0</td>\n",
       "    </tr>\n",
       "  </tbody>\n",
       "</table>\n",
       "</div>"
      ],
      "text/plain": [
       "                Region        Town Dwell_Type  AveMthly_kwh  Total_kwh\n",
       "count             1740        1740       1740        1740.0     1740.0\n",
       "unique               5          29          4           NaN        NaN\n",
       "top     Central Region  Ang Mo Kio        3rm           NaN        NaN\n",
       "freq               720          60        435           NaN        NaN\n",
       "mean               NaN         NaN        NaN         309.8     3717.5\n",
       "std                NaN         NaN        NaN         130.8     1569.1\n",
       "min                NaN         NaN        NaN           0.0        0.0\n",
       "25%                NaN         NaN        NaN         189.1     2269.5\n",
       "50%                NaN         NaN        NaN         325.2     3902.4\n",
       "75%                NaN         NaN        NaN         414.0     4968.6\n",
       "max                NaN         NaN        NaN         653.0     7836.0"
      ]
     },
     "execution_count": 33,
     "metadata": {},
     "output_type": "execute_result"
    }
   ],
   "source": [
    "dfHDB_ElecCons[dfHDB_ElecCons.columns[1:]].describe(include='all').round(1)"
   ]
  },
  {
   "cell_type": "code",
   "execution_count": 34,
   "id": "ae612bd0",
   "metadata": {},
   "outputs": [
    {
     "data": {
      "text/plain": [
       "<matplotlib.legend.Legend at 0x20ae6725d90>"
      ]
     },
     "execution_count": 34,
     "metadata": {},
     "output_type": "execute_result"
    },
    {
     "data": {
      "image/png": "[encoded data removed]",
      "text/plain": [
       "<Figure size 576x360 with 1 Axes>"
      ]
     },
     "metadata": {},
     "output_type": "display_data"
    }
   ],
   "source": [
    "sns.lineplot(data=dfHDB_ElecCons, x='Year', y='Total_kwh',hue='Dwell_Type', palette='Set1', ci=None);\n",
    "plt.legend(bbox_to_anchor=(1.05, 1), loc='upper left', borderaxespad=0)"
   ]
  },
  {
   "cell_type": "code",
   "execution_count": null,
   "id": "061413ad",
   "metadata": {},
   "outputs": [],
   "source": []
  },
  {
   "cell_type": "code",
   "execution_count": null,
   "id": "cb960235",
   "metadata": {},
   "outputs": [],
   "source": []
  },
  {
   "cell_type": "markdown",
   "id": "3fca6052",
   "metadata": {},
   "source": [
    "# Seaborn Examples"
   ]
  },
  {
   "cell_type": "markdown",
   "id": "3e00ebf5",
   "metadata": {},
   "source": [
    "### Histogram"
   ]
  },
  {
   "cell_type": "code",
   "execution_count": null,
   "id": "d648654a",
   "metadata": {},
   "outputs": [],
   "source": [
    "penguins = sns.load_dataset(\"penguins\")\n",
    "display(penguins.sample(5))\n",
    "display(penguins.dtypes)"
   ]
  },
  {
   "cell_type": "code",
   "execution_count": null,
   "id": "86b1229b",
   "metadata": {},
   "outputs": [],
   "source": [
    "sns.histplot(data=penguins, x=\"flipper_length_mm\", hue=\"species\", multiple=\"stack\")"
   ]
  },
  {
   "cell_type": "code",
   "execution_count": null,
   "id": "46db6a60",
   "metadata": {},
   "outputs": [],
   "source": [
    "data = dfDwellUnits[(dfDwellUnits.Year=='2008') & (dfDwellUnits.Town=='Bishan')]\n",
    "data"
   ]
  },
  {
   "cell_type": "code",
   "execution_count": null,
   "id": "d5e6e01a",
   "metadata": {},
   "outputs": [],
   "source": [
    "sns.displot(data=data['num_DwellUnits'], x='Dwelling_Type')"
   ]
  },
  {
   "cell_type": "code",
   "execution_count": null,
   "id": "32e50b42",
   "metadata": {},
   "outputs": [],
   "source": [
    "dfDwellUnits.columns"
   ]
  },
  {
   "cell_type": "code",
   "execution_count": null,
   "id": "f07c1ab9",
   "metadata": {},
   "outputs": [],
   "source": []
  },
  {
   "cell_type": "code",
   "execution_count": null,
   "id": "bc3bc0b9",
   "metadata": {},
   "outputs": [],
   "source": [
    "# ax = sns.barplot(x=\"day\", y=\"total_bill\", data=tips)\n",
    "ax = sns.barplot(x=data.Dwelling_Type, y=data.num_DwellUnits, data=data)"
   ]
  },
  {
   "cell_type": "code",
   "execution_count": null,
   "id": "316122c7",
   "metadata": {},
   "outputs": [],
   "source": [
    "ax = sns.barplot(x=dfDwellUnits.Dwelling_Type, y=dfDwellUnits.num_DwellUnits, \n",
    "                 hue=dfDwellUnits.Region, data=dfDwellUnits)"
   ]
  },
  {
   "cell_type": "code",
   "execution_count": null,
   "id": "8e0deb3b",
   "metadata": {},
   "outputs": [],
   "source": [
    "dfHDB_ElecCons[dfHDB_ElecCons.Dwell_Type=='5rm_Exec'].Total_kwh"
   ]
  },
  {
   "cell_type": "code",
   "execution_count": null,
   "id": "a2f0f5d0",
   "metadata": {},
   "outputs": [],
   "source": [
    "sns.displot(dfHDB_ElecCons, x=dfHDB_ElecCons[dfHDB_ElecCons.Dwell_Type=='5rm_Exec'].Total_kwh)"
   ]
  },
  {
   "cell_type": "code",
   "execution_count": null,
   "id": "b2eea473",
   "metadata": {},
   "outputs": [],
   "source": [
    "dfHDB_Residents.describe().round(1)"
   ]
  },
  {
   "cell_type": "code",
   "execution_count": null,
   "id": "8862b4c7",
   "metadata": {},
   "outputs": [],
   "source": [
    "sns.scatterplot(\n",
    "    x = dfHDB_Residents.Num_Residents,    \n",
    "    y = dfHDB_ElecCons.Total_kwh,        \n",
    "    hue=dfHDB_ElecCons.Dwell_Type,\n",
    ");\n",
    "plt.legend(bbox_to_anchor=(1.05, 1), loc='upper left', borderaxespad=0)"
   ]
  },
  {
   "cell_type": "code",
   "execution_count": null,
   "id": "5595de93",
   "metadata": {},
   "outputs": [],
   "source": [
    "dfHDB_ElecCons.Dwell_Type"
   ]
  },
  {
   "cell_type": "code",
   "execution_count": null,
   "id": "4be21e32",
   "metadata": {},
   "outputs": [],
   "source": [
    "dfHDB_Residents.Num_Residents"
   ]
  }
 ],
 "metadata": {
  "kernelspec": {
   "display_name": "Python 3",
   "language": "python",
   "name": "python3"
  },
  "language_info": {
   "codemirror_mode": {
    "name": "ipython",
    "version": 3
   },
   "file_extension": ".py",
   "mimetype": "text/x-python",
   "name": "python",
   "nbconvert_exporter": "python",
   "pygments_lexer": "ipython3",
   "version": "3.8.10"
  }
 },
 "nbformat": 4,
 "nbformat_minor": 5
}
